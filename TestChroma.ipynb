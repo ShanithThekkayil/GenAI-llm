{
 "cells": [
  {
   "cell_type": "code",
   "execution_count": 7,
   "id": "2035a3af",
   "metadata": {},
   "outputs": [
    {
     "name": "stdout",
     "output_type": "stream",
     "text": [
      "Jupyter is working!\n"
     ]
    }
   ],
   "source": [
    "print(\"Jupyter is working!\")"
   ]
  },
  {
   "cell_type": "code",
   "execution_count": 8,
   "id": "a51cad93",
   "metadata": {},
   "outputs": [
    {
     "name": "stdout",
     "output_type": "stream",
     "text": [
      "ChromaDB imported successfully!\n"
     ]
    }
   ],
   "source": [
    "import chromadb\n",
    "print(\"ChromaDB imported successfully!\")"
   ]
  },
  {
   "cell_type": "code",
   "execution_count": 9,
   "id": "c965c546",
   "metadata": {},
   "outputs": [
    {
     "name": "stdout",
     "output_type": "stream",
     "text": [
      "ChromaDB collection created!\n"
     ]
    }
   ],
   "source": [
    "client = chromadb.Client()\n",
    "collection = client.create_collection(\"test_collection2\")\n",
    "print(\"ChromaDB collection created!\")"
   ]
  }
 ],
 "metadata": {
  "kernelspec": {
   "display_name": "Python 3",
   "language": "python",
   "name": "python3"
  },
  "language_info": {
   "codemirror_mode": {
    "name": "ipython",
    "version": 3
   },
   "file_extension": ".py",
   "mimetype": "text/x-python",
   "name": "python",
   "nbconvert_exporter": "python",
   "pygments_lexer": "ipython3",
   "version": "3.13.7"
  }
 },
 "nbformat": 4,
 "nbformat_minor": 5
}
